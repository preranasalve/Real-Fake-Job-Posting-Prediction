{
 "cells": [
  {
   "cell_type": "markdown",
   "id": "d6b0182b",
   "metadata": {},
   "source": [
    "# Real / Fake Job Posting Prediction"
   ]
  },
  {
   "cell_type": "code",
   "execution_count": null,
   "id": "b0417c04",
   "metadata": {},
   "outputs": [],
   "source": [
    "# This Python 3 environment comes with many helpful analytics libraries installed\n",
    "# It is defined by the kaggle/python Docker image: https://github.com/kaggle/docker-python\n",
    "# For example, here's several helpful packages to load\n",
    "\n",
    "import numpy as np # linear algebra\n",
    "import pandas as pd # data processing, CSV file I/O (e.g. pd.read_csv)\n",
    "\n",
    "# Input data files are available in the read-only \"../input/\" directory\n",
    "# For example, running this (by clicking run or pressing Shift+Enter) will list all files under the input directory\n",
    "\n",
    "import os\n",
    "for dirname, _, filenames in os.walk('/kaggle/input'):\n",
    "    for filename in filenames:\n",
    "        print(os.path.join(dirname, filename))"
   ]
  },
  {
   "cell_type": "markdown",
   "id": "ca888a9e",
   "metadata": {},
   "source": [
    "# Importing the Data into pandas Data Frame\n"
   ]
  },
  {
   "cell_type": "code",
   "execution_count": 2,
   "id": "a50364ef",
   "metadata": {},
   "outputs": [],
   "source": [
    "df=pd.read_csv('/home/ubuntu/Documents/fake_job_postings.csv.zip')"
   ]
  },
  {
   "cell_type": "code",
   "execution_count": 3,
   "id": "3100906f",
   "metadata": {},
   "outputs": [
    {
     "data": {
      "text/html": [
       "<div>\n",
       "<style scoped>\n",
       "    .dataframe tbody tr th:only-of-type {\n",
       "        vertical-align: middle;\n",
       "    }\n",
       "\n",
       "    .dataframe tbody tr th {\n",
       "        vertical-align: top;\n",
       "    }\n",
       "\n",
       "    .dataframe thead th {\n",
       "        text-align: right;\n",
       "    }\n",
       "</style>\n",
       "<table border=\"1\" class=\"dataframe\">\n",
       "  <thead>\n",
       "    <tr style=\"text-align: right;\">\n",
       "      <th></th>\n",
       "      <th>job_id</th>\n",
       "      <th>title</th>\n",
       "      <th>location</th>\n",
       "      <th>department</th>\n",
       "      <th>salary_range</th>\n",
       "      <th>company_profile</th>\n",
       "      <th>description</th>\n",
       "      <th>requirements</th>\n",
       "      <th>benefits</th>\n",
       "      <th>telecommuting</th>\n",
       "      <th>has_company_logo</th>\n",
       "      <th>has_questions</th>\n",
       "      <th>employment_type</th>\n",
       "      <th>required_experience</th>\n",
       "      <th>required_education</th>\n",
       "      <th>industry</th>\n",
       "      <th>function</th>\n",
       "      <th>fraudulent</th>\n",
       "    </tr>\n",
       "  </thead>\n",
       "  <tbody>\n",
       "    <tr>\n",
       "      <th>0</th>\n",
       "      <td>1</td>\n",
       "      <td>Marketing Intern</td>\n",
       "      <td>US, NY, New York</td>\n",
       "      <td>Marketing</td>\n",
       "      <td>NaN</td>\n",
       "      <td>We're Food52, and we've created a groundbreaki...</td>\n",
       "      <td>Food52, a fast-growing, James Beard Award-winn...</td>\n",
       "      <td>Experience with content management systems a m...</td>\n",
       "      <td>NaN</td>\n",
       "      <td>0</td>\n",
       "      <td>1</td>\n",
       "      <td>0</td>\n",
       "      <td>Other</td>\n",
       "      <td>Internship</td>\n",
       "      <td>NaN</td>\n",
       "      <td>NaN</td>\n",
       "      <td>Marketing</td>\n",
       "      <td>0</td>\n",
       "    </tr>\n",
       "    <tr>\n",
       "      <th>1</th>\n",
       "      <td>2</td>\n",
       "      <td>Customer Service - Cloud Video Production</td>\n",
       "      <td>NZ, , Auckland</td>\n",
       "      <td>Success</td>\n",
       "      <td>NaN</td>\n",
       "      <td>90 Seconds, the worlds Cloud Video Production ...</td>\n",
       "      <td>Organised - Focused - Vibrant - Awesome!Do you...</td>\n",
       "      <td>What we expect from you:Your key responsibilit...</td>\n",
       "      <td>What you will get from usThrough being part of...</td>\n",
       "      <td>0</td>\n",
       "      <td>1</td>\n",
       "      <td>0</td>\n",
       "      <td>Full-time</td>\n",
       "      <td>Not Applicable</td>\n",
       "      <td>NaN</td>\n",
       "      <td>Marketing and Advertising</td>\n",
       "      <td>Customer Service</td>\n",
       "      <td>0</td>\n",
       "    </tr>\n",
       "    <tr>\n",
       "      <th>2</th>\n",
       "      <td>3</td>\n",
       "      <td>Commissioning Machinery Assistant (CMA)</td>\n",
       "      <td>US, IA, Wever</td>\n",
       "      <td>NaN</td>\n",
       "      <td>NaN</td>\n",
       "      <td>Valor Services provides Workforce Solutions th...</td>\n",
       "      <td>Our client, located in Houston, is actively se...</td>\n",
       "      <td>Implement pre-commissioning and commissioning ...</td>\n",
       "      <td>NaN</td>\n",
       "      <td>0</td>\n",
       "      <td>1</td>\n",
       "      <td>0</td>\n",
       "      <td>NaN</td>\n",
       "      <td>NaN</td>\n",
       "      <td>NaN</td>\n",
       "      <td>NaN</td>\n",
       "      <td>NaN</td>\n",
       "      <td>0</td>\n",
       "    </tr>\n",
       "    <tr>\n",
       "      <th>3</th>\n",
       "      <td>4</td>\n",
       "      <td>Account Executive - Washington DC</td>\n",
       "      <td>US, DC, Washington</td>\n",
       "      <td>Sales</td>\n",
       "      <td>NaN</td>\n",
       "      <td>Our passion for improving quality of life thro...</td>\n",
       "      <td>THE COMPANY: ESRI – Environmental Systems Rese...</td>\n",
       "      <td>EDUCATION: Bachelor’s or Master’s in GIS, busi...</td>\n",
       "      <td>Our culture is anything but corporate—we have ...</td>\n",
       "      <td>0</td>\n",
       "      <td>1</td>\n",
       "      <td>0</td>\n",
       "      <td>Full-time</td>\n",
       "      <td>Mid-Senior level</td>\n",
       "      <td>Bachelor's Degree</td>\n",
       "      <td>Computer Software</td>\n",
       "      <td>Sales</td>\n",
       "      <td>0</td>\n",
       "    </tr>\n",
       "    <tr>\n",
       "      <th>4</th>\n",
       "      <td>5</td>\n",
       "      <td>Bill Review Manager</td>\n",
       "      <td>US, FL, Fort Worth</td>\n",
       "      <td>NaN</td>\n",
       "      <td>NaN</td>\n",
       "      <td>SpotSource Solutions LLC is a Global Human Cap...</td>\n",
       "      <td>JOB TITLE: Itemization Review ManagerLOCATION:...</td>\n",
       "      <td>QUALIFICATIONS:RN license in the State of Texa...</td>\n",
       "      <td>Full Benefits Offered</td>\n",
       "      <td>0</td>\n",
       "      <td>1</td>\n",
       "      <td>1</td>\n",
       "      <td>Full-time</td>\n",
       "      <td>Mid-Senior level</td>\n",
       "      <td>Bachelor's Degree</td>\n",
       "      <td>Hospital &amp; Health Care</td>\n",
       "      <td>Health Care Provider</td>\n",
       "      <td>0</td>\n",
       "    </tr>\n",
       "  </tbody>\n",
       "</table>\n",
       "</div>"
      ],
      "text/plain": [
       "   job_id                                      title            location  \\\n",
       "0       1                           Marketing Intern    US, NY, New York   \n",
       "1       2  Customer Service - Cloud Video Production      NZ, , Auckland   \n",
       "2       3    Commissioning Machinery Assistant (CMA)       US, IA, Wever   \n",
       "3       4          Account Executive - Washington DC  US, DC, Washington   \n",
       "4       5                        Bill Review Manager  US, FL, Fort Worth   \n",
       "\n",
       "  department salary_range                                    company_profile  \\\n",
       "0  Marketing          NaN  We're Food52, and we've created a groundbreaki...   \n",
       "1    Success          NaN  90 Seconds, the worlds Cloud Video Production ...   \n",
       "2        NaN          NaN  Valor Services provides Workforce Solutions th...   \n",
       "3      Sales          NaN  Our passion for improving quality of life thro...   \n",
       "4        NaN          NaN  SpotSource Solutions LLC is a Global Human Cap...   \n",
       "\n",
       "                                         description  \\\n",
       "0  Food52, a fast-growing, James Beard Award-winn...   \n",
       "1  Organised - Focused - Vibrant - Awesome!Do you...   \n",
       "2  Our client, located in Houston, is actively se...   \n",
       "3  THE COMPANY: ESRI – Environmental Systems Rese...   \n",
       "4  JOB TITLE: Itemization Review ManagerLOCATION:...   \n",
       "\n",
       "                                        requirements  \\\n",
       "0  Experience with content management systems a m...   \n",
       "1  What we expect from you:Your key responsibilit...   \n",
       "2  Implement pre-commissioning and commissioning ...   \n",
       "3  EDUCATION: Bachelor’s or Master’s in GIS, busi...   \n",
       "4  QUALIFICATIONS:RN license in the State of Texa...   \n",
       "\n",
       "                                            benefits  telecommuting  \\\n",
       "0                                                NaN              0   \n",
       "1  What you will get from usThrough being part of...              0   \n",
       "2                                                NaN              0   \n",
       "3  Our culture is anything but corporate—we have ...              0   \n",
       "4                              Full Benefits Offered              0   \n",
       "\n",
       "   has_company_logo  has_questions employment_type required_experience  \\\n",
       "0                 1              0           Other          Internship   \n",
       "1                 1              0       Full-time      Not Applicable   \n",
       "2                 1              0             NaN                 NaN   \n",
       "3                 1              0       Full-time    Mid-Senior level   \n",
       "4                 1              1       Full-time    Mid-Senior level   \n",
       "\n",
       "  required_education                   industry              function  \\\n",
       "0                NaN                        NaN             Marketing   \n",
       "1                NaN  Marketing and Advertising      Customer Service   \n",
       "2                NaN                        NaN                   NaN   \n",
       "3  Bachelor's Degree          Computer Software                 Sales   \n",
       "4  Bachelor's Degree     Hospital & Health Care  Health Care Provider   \n",
       "\n",
       "   fraudulent  \n",
       "0           0  \n",
       "1           0  \n",
       "2           0  \n",
       "3           0  \n",
       "4           0  "
      ]
     },
     "execution_count": 3,
     "metadata": {},
     "output_type": "execute_result"
    }
   ],
   "source": [
    "df.head()"
   ]
  },
  {
   "cell_type": "markdown",
   "id": "354f9576",
   "metadata": {},
   "source": [
    "Remove Unrelated Attributes"
   ]
  },
  {
   "cell_type": "code",
   "execution_count": 4,
   "id": "cb585a67",
   "metadata": {},
   "outputs": [
    {
     "data": {
      "text/plain": [
       "Index(['job_id', 'title', 'location', 'department', 'salary_range',\n",
       "       'company_profile', 'description', 'requirements', 'benefits',\n",
       "       'telecommuting', 'has_company_logo', 'has_questions', 'employment_type',\n",
       "       'required_experience', 'required_education', 'industry', 'function',\n",
       "       'fraudulent'],\n",
       "      dtype='object')"
      ]
     },
     "execution_count": 4,
     "metadata": {},
     "output_type": "execute_result"
    }
   ],
   "source": [
    "df.columns"
   ]
  },
  {
   "cell_type": "code",
   "execution_count": 5,
   "id": "4e20958b",
   "metadata": {},
   "outputs": [],
   "source": [
    "df = df.drop(['job_id', 'title', 'location', 'department', 'salary_range',\n",
    "       'company_profile', 'requirements', 'benefits',\n",
    "       'telecommuting', 'has_company_logo', 'has_questions', 'employment_type',\n",
    "       'required_experience', 'required_education', 'industry', 'function'], axis=1)"
   ]
  },
  {
   "cell_type": "code",
   "execution_count": 6,
   "id": "40fae9dc",
   "metadata": {},
   "outputs": [
    {
     "data": {
      "text/html": [
       "<div>\n",
       "<style scoped>\n",
       "    .dataframe tbody tr th:only-of-type {\n",
       "        vertical-align: middle;\n",
       "    }\n",
       "\n",
       "    .dataframe tbody tr th {\n",
       "        vertical-align: top;\n",
       "    }\n",
       "\n",
       "    .dataframe thead th {\n",
       "        text-align: right;\n",
       "    }\n",
       "</style>\n",
       "<table border=\"1\" class=\"dataframe\">\n",
       "  <thead>\n",
       "    <tr style=\"text-align: right;\">\n",
       "      <th></th>\n",
       "      <th>description</th>\n",
       "      <th>fraudulent</th>\n",
       "    </tr>\n",
       "  </thead>\n",
       "  <tbody>\n",
       "    <tr>\n",
       "      <th>0</th>\n",
       "      <td>Food52, a fast-growing, James Beard Award-winn...</td>\n",
       "      <td>0</td>\n",
       "    </tr>\n",
       "    <tr>\n",
       "      <th>1</th>\n",
       "      <td>Organised - Focused - Vibrant - Awesome!Do you...</td>\n",
       "      <td>0</td>\n",
       "    </tr>\n",
       "    <tr>\n",
       "      <th>2</th>\n",
       "      <td>Our client, located in Houston, is actively se...</td>\n",
       "      <td>0</td>\n",
       "    </tr>\n",
       "    <tr>\n",
       "      <th>3</th>\n",
       "      <td>THE COMPANY: ESRI – Environmental Systems Rese...</td>\n",
       "      <td>0</td>\n",
       "    </tr>\n",
       "    <tr>\n",
       "      <th>4</th>\n",
       "      <td>JOB TITLE: Itemization Review ManagerLOCATION:...</td>\n",
       "      <td>0</td>\n",
       "    </tr>\n",
       "  </tbody>\n",
       "</table>\n",
       "</div>"
      ],
      "text/plain": [
       "                                         description  fraudulent\n",
       "0  Food52, a fast-growing, James Beard Award-winn...           0\n",
       "1  Organised - Focused - Vibrant - Awesome!Do you...           0\n",
       "2  Our client, located in Houston, is actively se...           0\n",
       "3  THE COMPANY: ESRI – Environmental Systems Rese...           0\n",
       "4  JOB TITLE: Itemization Review ManagerLOCATION:...           0"
      ]
     },
     "execution_count": 6,
     "metadata": {},
     "output_type": "execute_result"
    }
   ],
   "source": [
    "df.head()"
   ]
  },
  {
   "cell_type": "markdown",
   "id": "2abc8477",
   "metadata": {},
   "source": [
    "\n",
    "DropNa"
   ]
  },
  {
   "cell_type": "code",
   "execution_count": 7,
   "id": "a9b681c7",
   "metadata": {},
   "outputs": [],
   "source": [
    "df.dropna(inplace=True)"
   ]
  },
  {
   "cell_type": "markdown",
   "id": "7d0bc4b0",
   "metadata": {},
   "source": [
    "\n",
    "Change Cols Names"
   ]
  },
  {
   "cell_type": "code",
   "execution_count": 8,
   "id": "6bb85714",
   "metadata": {},
   "outputs": [
    {
     "data": {
      "text/html": [
       "<div>\n",
       "<style scoped>\n",
       "    .dataframe tbody tr th:only-of-type {\n",
       "        vertical-align: middle;\n",
       "    }\n",
       "\n",
       "    .dataframe tbody tr th {\n",
       "        vertical-align: top;\n",
       "    }\n",
       "\n",
       "    .dataframe thead th {\n",
       "        text-align: right;\n",
       "    }\n",
       "</style>\n",
       "<table border=\"1\" class=\"dataframe\">\n",
       "  <thead>\n",
       "    <tr style=\"text-align: right;\">\n",
       "      <th></th>\n",
       "      <th>data</th>\n",
       "      <th>labels</th>\n",
       "    </tr>\n",
       "  </thead>\n",
       "  <tbody>\n",
       "    <tr>\n",
       "      <th>0</th>\n",
       "      <td>Food52, a fast-growing, James Beard Award-winn...</td>\n",
       "      <td>0</td>\n",
       "    </tr>\n",
       "    <tr>\n",
       "      <th>1</th>\n",
       "      <td>Organised - Focused - Vibrant - Awesome!Do you...</td>\n",
       "      <td>0</td>\n",
       "    </tr>\n",
       "    <tr>\n",
       "      <th>2</th>\n",
       "      <td>Our client, located in Houston, is actively se...</td>\n",
       "      <td>0</td>\n",
       "    </tr>\n",
       "    <tr>\n",
       "      <th>3</th>\n",
       "      <td>THE COMPANY: ESRI – Environmental Systems Rese...</td>\n",
       "      <td>0</td>\n",
       "    </tr>\n",
       "    <tr>\n",
       "      <th>4</th>\n",
       "      <td>JOB TITLE: Itemization Review ManagerLOCATION:...</td>\n",
       "      <td>0</td>\n",
       "    </tr>\n",
       "  </tbody>\n",
       "</table>\n",
       "</div>"
      ],
      "text/plain": [
       "                                                data  labels\n",
       "0  Food52, a fast-growing, James Beard Award-winn...       0\n",
       "1  Organised - Focused - Vibrant - Awesome!Do you...       0\n",
       "2  Our client, located in Houston, is actively se...       0\n",
       "3  THE COMPANY: ESRI – Environmental Systems Rese...       0\n",
       "4  JOB TITLE: Itemization Review ManagerLOCATION:...       0"
      ]
     },
     "execution_count": 8,
     "metadata": {},
     "output_type": "execute_result"
    }
   ],
   "source": [
    "df.columns = ['data', 'labels']\n",
    "df.head()"
   ]
  },
  {
   "cell_type": "markdown",
   "id": "b85bf39c",
   "metadata": {},
   "source": [
    "Lowecasing All Letters"
   ]
  },
  {
   "cell_type": "code",
   "execution_count": 9,
   "id": "aa83d6ab",
   "metadata": {},
   "outputs": [
    {
     "data": {
      "text/plain": [
       "'food52, a fast-growing, james beard award-winning online food community and crowd-sourced and curated recipe hub, is currently interviewing full- and part-time unpaid interns to work in a small team of editors, executives, and developers in its new york city headquarters.reproducing and/or repackaging existing food52 content for a number of partner sites, such as huffington post, yahoo, buzzfeed, and more in their various content management systemsresearching blogs and websites for the provisions by food52 affiliate programassisting in day-to-day affiliate program support, such as screening affiliates and assisting in any affiliate inquiriessupporting with pr &amp; events when neededhelping with office administrative work, such as filing, mailing, and preparing for meetingsworking with developers to document bugs and suggest improvements to the sitesupporting the marketing and executive staff'"
      ]
     },
     "execution_count": 9,
     "metadata": {},
     "output_type": "execute_result"
    }
   ],
   "source": [
    "df['data'] = df['data'].str.lower()\n",
    "df.data[0]"
   ]
  },
  {
   "cell_type": "markdown",
   "id": "3ea3c553",
   "metadata": {},
   "source": [
    "\n",
    "\n",
    "Text Pre-processing\n"
   ]
  },
  {
   "cell_type": "code",
   "execution_count": 10,
   "id": "7b5138e4",
   "metadata": {},
   "outputs": [
    {
     "name": "stderr",
     "output_type": "stream",
     "text": [
      "[nltk_data] Downloading package stopwords to /home/ubuntu/nltk_data...\n",
      "[nltk_data]   Unzipping corpora/stopwords.zip.\n",
      "[nltk_data] Downloading package punkt to /home/ubuntu/nltk_data...\n",
      "[nltk_data]   Unzipping tokenizers/punkt.zip.\n"
     ]
    },
    {
     "data": {
      "text/plain": [
       "True"
      ]
     },
     "execution_count": 10,
     "metadata": {},
     "output_type": "execute_result"
    }
   ],
   "source": [
    "\n",
    "\n",
    "import nltk \n",
    "\n",
    "nltk.download('stopwords')\n",
    "nltk.download('punkt')\n",
    "\n"
   ]
  },
  {
   "cell_type": "code",
   "execution_count": 11,
   "id": "e1316ab0",
   "metadata": {},
   "outputs": [
    {
     "data": {
      "text/plain": [
       "\"organised - focused - vibrant - awesome!do you have a passion for customer service? slick typing skills? maybe account management? ...and think administration is cooler than a polar bear on a jetski? then we need to hear you!\\xa0we are the cloud video production service and opperating on a glodal level. yeah, it's pretty cool. serious about\\xa0delivering a world class product and excellent customer service.our rapidly expanding business is looking for a talented project manager to manage the successful delivery of video projects, manage client communications and drive the production process. work with some of the coolest brands on the planet and learn from a global team that are representing nz is a huge way!we are entering the next growth stage of our business and growing quickly internationally. \\xa0therefore, the position is bursting with opportunity for the right person entering the business at the right time.\\xa090 seconds, the worlds cloud video production service -\\xa0http://90#url_fbe6559afac620a3cd2c22281f7b8d0eef56a73e3d9a311e2f1ca13d081dd630#90 seconds is the worlds cloud video production service enabling brands and agencies to get high quality online video content shot and produced anywhere in the world. fast, affordable, and all managed seamlessly in the cloud from purchase to publish.\\xa090 seconds removes the hassle, cost, risk and speed issues of working with regular video production companies by managing every aspect of video projects in a beautiful online experience. \\xa0with a growing network of over 2,000 rated video professionals in over 50 countries and dedicated production success teams in 5 countries guaranteeing video project success 100%. it's as easy as commissioning a quick google adwords campaign.90 seconds has produced almost 4,000 videos in over 30 countries for over 500 global brands including some of the worlds largest including paypal, l'oreal, sony and barclays and has offices in auckland, london, sydney, tokyo &amp; singapore.our auckland office is based\\xa0right in the heart of the wynyard quarter innovation precinct - gridakl!\\xa0\""
      ]
     },
     "execution_count": 11,
     "metadata": {},
     "output_type": "execute_result"
    }
   ],
   "source": [
    "df['data'][1]"
   ]
  },
  {
   "cell_type": "code",
   "execution_count": 12,
   "id": "a6834454",
   "metadata": {},
   "outputs": [],
   "source": [
    "from nltk.corpus import stopwords\n",
    "from nltk.stem import PorterStemmer\n",
    "stemming = PorterStemmer()\n",
    "stops = set(stopwords.words(\"english\"))    \n",
    "def identify_tokens(row):\n",
    "    review = row\n",
    "    tokens = nltk.word_tokenize(review)\n",
    "    # taken only words (not punctuation)\n",
    "    token_words = [w for w in tokens if w.isalpha()]\n",
    "    meaningful_words = [w for w in token_words if not w in stops]\n",
    "    stemmed_list = [stemming.stem(word) for word in meaningful_words]\n",
    "    joined_words = (' '.join(stemmed_list))\n",
    "    return joined_words"
   ]
  },
  {
   "cell_type": "code",
   "execution_count": 13,
   "id": "6b14ab43",
   "metadata": {},
   "outputs": [],
   "source": [
    "df['processed'] = df['data'].apply(identify_tokens)"
   ]
  },
  {
   "cell_type": "code",
   "execution_count": 14,
   "id": "02f05a45",
   "metadata": {},
   "outputs": [
    {
     "data": {
      "text/plain": [
       "'organis focus vibrant awesom passion custom servic slick type skill mayb account manag think administr cooler polar bear jetski need hear cloud video product servic opper glodal level yeah pretti cool seriou deliv world class product excel custom rapidli expand busi look talent project manag manag success deliveri video project manag client commun drive product process work coolest brand planet learn global team repres nz huge way enter next growth stage busi grow quickli intern therefor posit burst opportun right person enter busi right time second world cloud video product servic http second world cloud video product servic enabl brand agenc get high qualiti onlin video content shot produc anywher world fast afford manag seamlessli cloud purchas publish second remov hassl cost risk speed issu work regular video product compani manag everi aspect video project beauti onlin experi grow network rate video profession countri dedic product success team countri guarante video project success easi commiss quick googl adword second produc almost video countri global brand includ world largest includ paypal soni barclay offic auckland london sydney tokyo amp auckland offic base right heart wynyard quarter innov precinct gridakl'"
      ]
     },
     "execution_count": 14,
     "metadata": {},
     "output_type": "execute_result"
    }
   ],
   "source": [
    "df['processed'][1]"
   ]
  },
  {
   "cell_type": "code",
   "execution_count": 15,
   "id": "20b5be45",
   "metadata": {},
   "outputs": [],
   "source": [
    "import numpy as np\n",
    "from sklearn.feature_extraction.text import TfidfVectorizer, CountVectorizer\n",
    "from sklearn.model_selection import train_test_split\n",
    "from sklearn.naive_bayes import MultinomialNB\n",
    "from sklearn import metrics\n",
    "from sklearn.metrics import classification_report\n",
    "from sklearn.metrics import confusion_matrix"
   ]
  },
  {
   "cell_type": "code",
   "execution_count": 16,
   "id": "ff2ca172",
   "metadata": {},
   "outputs": [],
   "source": [
    "Y = df['labels'].to_numpy()"
   ]
  },
  {
   "cell_type": "markdown",
   "id": "f9403d40",
   "metadata": {},
   "source": [
    "TF-IDF Feature Extraction"
   ]
  },
  {
   "cell_type": "code",
   "execution_count": 18,
   "id": "4931410b",
   "metadata": {},
   "outputs": [
    {
     "data": {
      "text/plain": [
       "(17879, 45566)"
      ]
     },
     "execution_count": 18,
     "metadata": {},
     "output_type": "execute_result"
    }
   ],
   "source": [
    "tfidf = TfidfVectorizer(decode_error='ignore')\n",
    "X = tfidf.fit_transform(df['processed'].values.astype('U'))\n",
    "X.shape"
   ]
  },
  {
   "cell_type": "code",
   "execution_count": 19,
   "id": "c592ef27",
   "metadata": {},
   "outputs": [
    {
     "data": {
      "text/plain": [
       "'payrol account focu primarili payrol function approxim count employe addit individu assist variou task within account depart rapidli grow cut edg web develop ideal candid would payrol possess experi autonomi abl work minim supervis fulfil oblig fun open work environ candid must also possess expertis applic account principl practic provid support account process payrol outsourc payrol handl account analysi administr function relat resolv respond time inquiri benefit administr includ point contact third parti complet payrol gener account analysi journal perform intern payrol review ensur accuraci maintain employe personnel annual renew flexibl spend transit reimburs assist account team account payabl'"
      ]
     },
     "execution_count": 19,
     "metadata": {},
     "output_type": "execute_result"
    }
   ],
   "source": [
    "df['processed'][17876]"
   ]
  },
  {
   "cell_type": "markdown",
   "id": "41e90ff2",
   "metadata": {},
   "source": [
    "# Train/ Test Splitting\n"
   ]
  },
  {
   "cell_type": "code",
   "execution_count": 20,
   "id": "a14fd7e1",
   "metadata": {},
   "outputs": [],
   "source": [
    "xtrain,xtest,ytrain,ytest = train_test_split(X,Y,test_size=0.3)"
   ]
  },
  {
   "cell_type": "markdown",
   "id": "3aa69711",
   "metadata": {},
   "source": [
    "Multi-Nomial Naive Bayes"
   ]
  },
  {
   "cell_type": "code",
   "execution_count": 21,
   "id": "5afb7103",
   "metadata": {},
   "outputs": [
    {
     "data": {
      "text/plain": [
       "MultinomialNB()"
      ]
     },
     "execution_count": 21,
     "metadata": {},
     "output_type": "execute_result"
    }
   ],
   "source": [
    "modelNB = MultinomialNB()\n",
    "modelNB.fit(xtrain,ytrain)"
   ]
  },
  {
   "cell_type": "code",
   "execution_count": 22,
   "id": "dcb04b55",
   "metadata": {},
   "outputs": [
    {
     "name": "stdout",
     "output_type": "stream",
     "text": [
      "Confusion Matrix\n",
      "[[5103    9]\n",
      " [ 252    0]]\n",
      "Classification Report\n",
      "              precision    recall  f1-score   support\n",
      "\n",
      "           0       0.95      1.00      0.98      5112\n",
      "           1       0.00      0.00      0.00       252\n",
      "\n",
      "    accuracy                           0.95      5364\n",
      "   macro avg       0.48      0.50      0.49      5364\n",
      "weighted avg       0.91      0.95      0.93      5364\n",
      "\n",
      "Accuracy: 0.9513422818791947\n",
      "TNR: 0.0\n",
      "NPV: 0.0\n"
     ]
    }
   ],
   "source": [
    "NBPreds = modelNB.predict(xtest)\n",
    "print('Confusion Matrix')\n",
    "print(confusion_matrix(ytest, NBPreds))\n",
    "\n",
    "print('Classification Report')\n",
    "print(classification_report(ytest, NBPreds))\n",
    "\n",
    "print(\"Accuracy:\",metrics.accuracy_score(ytest, NBPreds))\n",
    "print(\"TNR:\",metrics.precision_score(ytest, NBPreds))\n",
    "print(\"NPV:\",metrics.recall_score(ytest, NBPreds))"
   ]
  },
  {
   "cell_type": "code",
   "execution_count": 23,
   "id": "9b2650b3",
   "metadata": {},
   "outputs": [],
   "source": [
    "from sklearn.neighbors import KNeighborsClassifier\n",
    "from sklearn.tree import DecisionTreeClassifier\n",
    "from sklearn import svm\n",
    "from sklearn.ensemble import RandomForestClassifier"
   ]
  },
  {
   "cell_type": "markdown",
   "id": "d2ad4a54",
   "metadata": {},
   "source": [
    "Support Vector Machine"
   ]
  },
  {
   "cell_type": "code",
   "execution_count": 24,
   "id": "37e5670a",
   "metadata": {},
   "outputs": [
    {
     "data": {
      "text/plain": [
       "SVC(kernel='linear')"
      ]
     },
     "execution_count": 24,
     "metadata": {},
     "output_type": "execute_result"
    }
   ],
   "source": [
    "clf = svm.SVC(kernel='linear') # Linear Kernel\n",
    "clf.fit(xtrain,ytrain)"
   ]
  },
  {
   "cell_type": "code",
   "execution_count": 25,
   "id": "730b769c",
   "metadata": {},
   "outputs": [],
   "source": [
    "SVMpred = clf.predict(xtest)"
   ]
  },
  {
   "cell_type": "code",
   "execution_count": 26,
   "id": "f5295798",
   "metadata": {},
   "outputs": [
    {
     "name": "stdout",
     "output_type": "stream",
     "text": [
      "Confusion Matrix\n",
      "[[5111    1]\n",
      " [ 145  107]]\n",
      "Classification Report\n",
      "              precision    recall  f1-score   support\n",
      "\n",
      "           0       0.97      1.00      0.99      5112\n",
      "           1       0.99      0.42      0.59       252\n",
      "\n",
      "    accuracy                           0.97      5364\n",
      "   macro avg       0.98      0.71      0.79      5364\n",
      "weighted avg       0.97      0.97      0.97      5364\n",
      "\n",
      "Accuracy: 0.9727815063385533\n",
      "TNR: 0.9907407407407407\n",
      "NPV: 0.4246031746031746\n"
     ]
    }
   ],
   "source": [
    "print('Confusion Matrix')\n",
    "print(confusion_matrix(ytest, SVMpred))\n",
    "print('Classification Report')\n",
    "print(classification_report(ytest, SVMpred))\n",
    "print(\"Accuracy:\",metrics.accuracy_score(ytest, SVMpred))\n",
    "print(\"TNR:\",metrics.precision_score(ytest, SVMpred))\n",
    "print(\"NPV:\",metrics.recall_score(ytest, SVMpred))"
   ]
  },
  {
   "cell_type": "markdown",
   "id": "f8b50b0a",
   "metadata": {},
   "source": [
    "# Decision Tree\n"
   ]
  },
  {
   "cell_type": "code",
   "execution_count": 30,
   "id": "9c701438",
   "metadata": {},
   "outputs": [],
   "source": [
    "DTC = DecisionTreeClassifier()\n",
    "DTC = DTC.fit(xtrain,ytrain)\n",
    "DTCPred = DTC.predict(xtest)"
   ]
  },
  {
   "cell_type": "code",
   "execution_count": 28,
   "id": "6607523d",
   "metadata": {},
   "outputs": [
    {
     "name": "stdout",
     "output_type": "stream",
     "text": [
      "Confusion Matrix\n",
      "[[5049   63]\n",
      " [ 100  152]]\n",
      "Classification Report\n",
      "              precision    recall  f1-score   support\n",
      "\n",
      "           0       0.98      0.99      0.98      5112\n",
      "           1       0.71      0.60      0.65       252\n",
      "\n",
      "    accuracy                           0.97      5364\n",
      "   macro avg       0.84      0.80      0.82      5364\n",
      "weighted avg       0.97      0.97      0.97      5364\n",
      "\n",
      "Accuracy: 0.9696122296793438\n",
      "TNR: 0.7069767441860465\n",
      "NPV: 0.6031746031746031\n"
     ]
    }
   ],
   "source": [
    "print('Confusion Matrix')\n",
    "print(confusion_matrix(ytest, DTCPred))\n",
    "print('Classification Report')\n",
    "print(classification_report(ytest, DTCPred))\n",
    "print(\"Accuracy:\",metrics.accuracy_score(ytest, DTCPred))\n",
    "print(\"TNR:\",metrics.precision_score(ytest, DTCPred))\n",
    "print(\"NPV:\",metrics.recall_score(ytest, DTCPred))"
   ]
  },
  {
   "cell_type": "code",
   "execution_count": 29,
   "id": "2f7eabbe",
   "metadata": {},
   "outputs": [],
   "source": [
    "KNN = KNeighborsClassifier(n_neighbors=3)\n",
    "KNN.fit(xtrain,ytrain)\n",
    "KNNPred= KNN.predict(xtest)"
   ]
  },
  {
   "cell_type": "code",
   "execution_count": 32,
   "id": "aacd3129",
   "metadata": {},
   "outputs": [
    {
     "name": "stdout",
     "output_type": "stream",
     "text": [
      "Confusion Matrix\n",
      "[[5041   71]\n",
      " [  80  172]]\n",
      "Classification Report\n",
      "              precision    recall  f1-score   support\n",
      "\n",
      "           0       0.98      0.99      0.99      5112\n",
      "           1       0.71      0.68      0.69       252\n",
      "\n",
      "    accuracy                           0.97      5364\n",
      "   macro avg       0.85      0.83      0.84      5364\n",
      "weighted avg       0.97      0.97      0.97      5364\n",
      "\n",
      "Accuracy: 0.9718493661446681\n",
      "TNR: 0.7078189300411523\n",
      "NPV: 0.6825396825396826\n"
     ]
    }
   ],
   "source": [
    "print('Confusion Matrix')\n",
    "print(confusion_matrix(ytest, KNNPred))\n",
    "print('Classification Report')\n",
    "print(classification_report(ytest, KNNPred))\n",
    "print(\"Accuracy:\",metrics.accuracy_score(ytest, KNNPred))\n",
    "print(\"TNR:\",metrics.precision_score(ytest, KNNPred))\n",
    "print(\"NPV:\",metrics.recall_score(ytest, KNNPred))"
   ]
  },
  {
   "cell_type": "markdown",
   "id": "934a45be",
   "metadata": {},
   "source": [
    "# Random Forest"
   ]
  },
  {
   "cell_type": "code",
   "execution_count": 34,
   "id": "a3041b4b",
   "metadata": {},
   "outputs": [
    {
     "name": "stdout",
     "output_type": "stream",
     "text": [
      "Confusion Matrix\n",
      "[[5112    0]\n",
      " [ 125  127]]\n",
      "Classification Report\n",
      "              precision    recall  f1-score   support\n",
      "\n",
      "           0       0.98      1.00      0.99      5112\n",
      "           1       1.00      0.50      0.67       252\n",
      "\n",
      "    accuracy                           0.98      5364\n",
      "   macro avg       0.99      0.75      0.83      5364\n",
      "weighted avg       0.98      0.98      0.97      5364\n",
      "\n",
      "Accuracy: 0.976696495152871\n",
      "TNR: 1.0\n",
      "NPV: 0.503968253968254\n"
     ]
    }
   ],
   "source": [
    "RF=RandomForestClassifier(n_estimators=100) #default number of trees in the forest model \n",
    "RF.fit(xtrain,ytrain)\n",
    "RFPred=RF.predict(xtest)\n",
    "print('Confusion Matrix')\n",
    "print(confusion_matrix(ytest, RFPred))\n",
    "print('Classification Report')\n",
    "print(classification_report(ytest, RFPred))\n",
    "print(\"Accuracy:\",metrics.accuracy_score(ytest, RFPred))\n",
    "print(\"TNR:\",metrics.precision_score(ytest, RFPred))\n",
    "print(\"NPV:\",metrics.recall_score(ytest, RFPred))"
   ]
  },
  {
   "cell_type": "code",
   "execution_count": null,
   "id": "8dd3212f",
   "metadata": {},
   "outputs": [],
   "source": []
  },
  {
   "cell_type": "code",
   "execution_count": null,
   "id": "c4cc8a1b",
   "metadata": {},
   "outputs": [],
   "source": []
  }
 ],
 "metadata": {
  "kernelspec": {
   "display_name": "Python 3 (ipykernel)",
   "language": "python",
   "name": "python3"
  },
  "language_info": {
   "codemirror_mode": {
    "name": "ipython",
    "version": 3
   },
   "file_extension": ".py",
   "mimetype": "text/x-python",
   "name": "python",
   "nbconvert_exporter": "python",
   "pygments_lexer": "ipython3",
   "version": "3.9.7"
  }
 },
 "nbformat": 4,
 "nbformat_minor": 5
}
